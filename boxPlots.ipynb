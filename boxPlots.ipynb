{
 "cells": [
  {
   "cell_type": "code",
   "execution_count": 1,
   "metadata": {},
   "outputs": [],
   "source": [
    "import pandas as pd \n",
    "import matplotlib.pyplot as plt \n",
    "import numpy as np "
   ]
  },
  {
   "cell_type": "code",
   "execution_count": 3,
   "metadata": {},
   "outputs": [
    {
     "data": {
      "text/html": [
       "<div>\n",
       "<style scoped>\n",
       "    .dataframe tbody tr th:only-of-type {\n",
       "        vertical-align: middle;\n",
       "    }\n",
       "\n",
       "    .dataframe tbody tr th {\n",
       "        vertical-align: top;\n",
       "    }\n",
       "\n",
       "    .dataframe thead th {\n",
       "        text-align: right;\n",
       "    }\n",
       "</style>\n",
       "<table border=\"1\" class=\"dataframe\">\n",
       "  <thead>\n",
       "    <tr style=\"text-align: right;\">\n",
       "      <th></th>\n",
       "      <th>normal</th>\n",
       "      <th>random</th>\n",
       "      <th>gamma</th>\n",
       "    </tr>\n",
       "  </thead>\n",
       "  <tbody>\n",
       "    <tr>\n",
       "      <th>0</th>\n",
       "      <td>-1.688636</td>\n",
       "      <td>0.976333</td>\n",
       "      <td>2.157982</td>\n",
       "    </tr>\n",
       "    <tr>\n",
       "      <th>1</th>\n",
       "      <td>3.254810</td>\n",
       "      <td>0.993260</td>\n",
       "      <td>1.300924</td>\n",
       "    </tr>\n",
       "    <tr>\n",
       "      <th>2</th>\n",
       "      <td>-0.473733</td>\n",
       "      <td>0.485779</td>\n",
       "      <td>2.290089</td>\n",
       "    </tr>\n",
       "    <tr>\n",
       "      <th>3</th>\n",
       "      <td>-0.667252</td>\n",
       "      <td>0.354604</td>\n",
       "      <td>1.260201</td>\n",
       "    </tr>\n",
       "    <tr>\n",
       "      <th>4</th>\n",
       "      <td>-0.198571</td>\n",
       "      <td>0.901303</td>\n",
       "      <td>2.083463</td>\n",
       "    </tr>\n",
       "    <tr>\n",
       "      <th>...</th>\n",
       "      <td>...</td>\n",
       "      <td>...</td>\n",
       "      <td>...</td>\n",
       "    </tr>\n",
       "    <tr>\n",
       "      <th>9995</th>\n",
       "      <td>0.587602</td>\n",
       "      <td>0.609753</td>\n",
       "      <td>1.984985</td>\n",
       "    </tr>\n",
       "    <tr>\n",
       "      <th>9996</th>\n",
       "      <td>-0.106496</td>\n",
       "      <td>0.467999</td>\n",
       "      <td>3.599291</td>\n",
       "    </tr>\n",
       "    <tr>\n",
       "      <th>9997</th>\n",
       "      <td>1.176535</td>\n",
       "      <td>0.020648</td>\n",
       "      <td>0.819590</td>\n",
       "    </tr>\n",
       "    <tr>\n",
       "      <th>9998</th>\n",
       "      <td>0.091051</td>\n",
       "      <td>0.714505</td>\n",
       "      <td>3.986031</td>\n",
       "    </tr>\n",
       "    <tr>\n",
       "      <th>9999</th>\n",
       "      <td>-0.183790</td>\n",
       "      <td>0.680974</td>\n",
       "      <td>0.571659</td>\n",
       "    </tr>\n",
       "  </tbody>\n",
       "</table>\n",
       "<p>10000 rows × 3 columns</p>\n",
       "</div>"
      ],
      "text/plain": [
       "        normal    random     gamma\n",
       "0    -1.688636  0.976333  2.157982\n",
       "1     3.254810  0.993260  1.300924\n",
       "2    -0.473733  0.485779  2.290089\n",
       "3    -0.667252  0.354604  1.260201\n",
       "4    -0.198571  0.901303  2.083463\n",
       "...        ...       ...       ...\n",
       "9995  0.587602  0.609753  1.984985\n",
       "9996 -0.106496  0.467999  3.599291\n",
       "9997  1.176535  0.020648  0.819590\n",
       "9998  0.091051  0.714505  3.986031\n",
       "9999 -0.183790  0.680974  0.571659\n",
       "\n",
       "[10000 rows x 3 columns]"
      ]
     },
     "execution_count": 3,
     "metadata": {},
     "output_type": "execute_result"
    }
   ],
   "source": [
    "normal_sample = np.random.normal(loc=0.0, scale=1.0, size=10000)\n",
    "random_sample = np.random.random(size=10000)\n",
    "gamma_sample = np.random.gamma(2, size=10000)\n",
    "\n",
    "df = pd.DataFrame({\n",
    "    'normal': normal_sample,\n",
    "    'random': random_sample,\n",
    "    'gamma': gamma_sample\n",
    "})\n",
    "df"
   ]
  },
  {
   "cell_type": "code",
   "execution_count": 4,
   "metadata": {},
   "outputs": [
    {
     "data": {
      "text/html": [
       "<div>\n",
       "<style scoped>\n",
       "    .dataframe tbody tr th:only-of-type {\n",
       "        vertical-align: middle;\n",
       "    }\n",
       "\n",
       "    .dataframe tbody tr th {\n",
       "        vertical-align: top;\n",
       "    }\n",
       "\n",
       "    .dataframe thead th {\n",
       "        text-align: right;\n",
       "    }\n",
       "</style>\n",
       "<table border=\"1\" class=\"dataframe\">\n",
       "  <thead>\n",
       "    <tr style=\"text-align: right;\">\n",
       "      <th></th>\n",
       "      <th>normal</th>\n",
       "      <th>random</th>\n",
       "      <th>gamma</th>\n",
       "    </tr>\n",
       "  </thead>\n",
       "  <tbody>\n",
       "    <tr>\n",
       "      <th>count</th>\n",
       "      <td>10000.000000</td>\n",
       "      <td>10000.000000</td>\n",
       "      <td>10000.000000</td>\n",
       "    </tr>\n",
       "    <tr>\n",
       "      <th>mean</th>\n",
       "      <td>0.012245</td>\n",
       "      <td>0.499109</td>\n",
       "      <td>1.985601</td>\n",
       "    </tr>\n",
       "    <tr>\n",
       "      <th>std</th>\n",
       "      <td>0.999388</td>\n",
       "      <td>0.289930</td>\n",
       "      <td>1.398504</td>\n",
       "    </tr>\n",
       "    <tr>\n",
       "      <th>min</th>\n",
       "      <td>-4.023522</td>\n",
       "      <td>0.000266</td>\n",
       "      <td>0.022812</td>\n",
       "    </tr>\n",
       "    <tr>\n",
       "      <th>25%</th>\n",
       "      <td>-0.644623</td>\n",
       "      <td>0.246160</td>\n",
       "      <td>0.968142</td>\n",
       "    </tr>\n",
       "    <tr>\n",
       "      <th>50%</th>\n",
       "      <td>0.020138</td>\n",
       "      <td>0.502615</td>\n",
       "      <td>1.655447</td>\n",
       "    </tr>\n",
       "    <tr>\n",
       "      <th>75%</th>\n",
       "      <td>0.682218</td>\n",
       "      <td>0.750138</td>\n",
       "      <td>2.668361</td>\n",
       "    </tr>\n",
       "    <tr>\n",
       "      <th>max</th>\n",
       "      <td>4.416123</td>\n",
       "      <td>0.999906</td>\n",
       "      <td>12.112703</td>\n",
       "    </tr>\n",
       "  </tbody>\n",
       "</table>\n",
       "</div>"
      ],
      "text/plain": [
       "             normal        random         gamma\n",
       "count  10000.000000  10000.000000  10000.000000\n",
       "mean       0.012245      0.499109      1.985601\n",
       "std        0.999388      0.289930      1.398504\n",
       "min       -4.023522      0.000266      0.022812\n",
       "25%       -0.644623      0.246160      0.968142\n",
       "50%        0.020138      0.502615      1.655447\n",
       "75%        0.682218      0.750138      2.668361\n",
       "max        4.416123      0.999906     12.112703"
      ]
     },
     "execution_count": 4,
     "metadata": {},
     "output_type": "execute_result"
    }
   ],
   "source": [
    "df.describe()"
   ]
  },
  {
   "cell_type": "code",
   "execution_count": 6,
   "metadata": {},
   "outputs": [
    {
     "data": {
      "text/plain": [
       "{'whiskers': [<matplotlib.lines.Line2D at 0x7f59e9cb6e00>,\n",
       "  <matplotlib.lines.Line2D at 0x7f59e9cb7100>],\n",
       " 'caps': [<matplotlib.lines.Line2D at 0x7f59e9cb7400>,\n",
       "  <matplotlib.lines.Line2D at 0x7f59e9cb7700>],\n",
       " 'boxes': [<matplotlib.lines.Line2D at 0x7f59e9cb5240>],\n",
       " 'medians': [<matplotlib.lines.Line2D at 0x7f59e9cb7a00>],\n",
       " 'fliers': [<matplotlib.lines.Line2D at 0x7f59e9cb7d00>],\n",
       " 'means': []}"
      ]
     },
     "execution_count": 6,
     "metadata": {},
     "output_type": "execute_result"
    },
    {
     "data": {
      "image/png": "[encoded data removed]",
      "text/plain": [
       "<Figure size 640x480 with 1 Axes>"
      ]
     },
     "metadata": {},
     "output_type": "display_data"
    }
   ],
   "source": [
    "plt.boxplot(df['normal'])"
   ]
  },
  {
   "cell_type": "code",
   "execution_count": 7,
   "metadata": {},
   "outputs": [
    {
     "data": {
      "image/png": "[encoded data removed]",
      "text/plain": [
       "<Figure size 640x480 with 1 Axes>"
      ]
     },
     "metadata": {},
     "output_type": "display_data"
    }
   ],
   "source": [
    "plt.boxplot(df['normal']); "
   ]
  },
  {
   "cell_type": "code",
   "execution_count": 8,
   "metadata": {},
   "outputs": [
    {
     "data": {
      "text/plain": [
       "{'whiskers': [<matplotlib.lines.Line2D at 0x7f59e9cd4f10>,\n",
       "  <matplotlib.lines.Line2D at 0x7f59e9cd7250>,\n",
       "  <matplotlib.lines.Line2D at 0x7f59e9d54460>,\n",
       "  <matplotlib.lines.Line2D at 0x7f59e9d54f40>,\n",
       "  <matplotlib.lines.Line2D at 0x7f59e9d0a7a0>,\n",
       "  <matplotlib.lines.Line2D at 0x7f59e9d0ae90>],\n",
       " 'caps': [<matplotlib.lines.Line2D at 0x7f59e9cd79a0>,\n",
       "  <matplotlib.lines.Line2D at 0x7f59e9cd7b50>,\n",
       "  <matplotlib.lines.Line2D at 0x7f59e9d54610>,\n",
       "  <matplotlib.lines.Line2D at 0x7f59e9d0bf40>,\n",
       "  <matplotlib.lines.Line2D at 0x7f59e9d0b040>,\n",
       "  <matplotlib.lines.Line2D at 0x7f59e9d0b3a0>],\n",
       " 'boxes': [<matplotlib.lines.Line2D at 0x7f59e9cd5900>,\n",
       "  <matplotlib.lines.Line2D at 0x7f59ebe97130>,\n",
       "  <matplotlib.lines.Line2D at 0x7f59e9d08250>],\n",
       " 'medians': [<matplotlib.lines.Line2D at 0x7f59edc4e410>,\n",
       "  <matplotlib.lines.Line2D at 0x7f59e9d0ac50>,\n",
       "  <matplotlib.lines.Line2D at 0x7f59e9d0b700>],\n",
       " 'fliers': [<matplotlib.lines.Line2D at 0x7f59ebe970d0>,\n",
       "  <matplotlib.lines.Line2D at 0x7f59e9d0a170>,\n",
       "  <matplotlib.lines.Line2D at 0x7f59e9d09f30>],\n",
       " 'means': []}"
      ]
     },
     "execution_count": 8,
     "metadata": {},
     "output_type": "execute_result"
    },
    {
     "data": {
      "image/png": "[encoded data removed]",
      "text/plain": [
       "<Figure size 640x480 with 1 Axes>"
      ]
     },
     "metadata": {},
     "output_type": "display_data"
    }
   ],
   "source": [
    "plt.boxplot([df['normal'], df['random'], df['gamma']], whis=[0,100])"
   ]
  },
  {
   "cell_type": "code",
   "execution_count": 9,
   "metadata": {},
   "outputs": [
    {
     "data": {
      "text/plain": [
       "(array([ 91., 192., 296., 345., 385., 420., 420., 445., 469., 485., 419.,\n",
       "        402., 425., 372., 318., 360., 321., 306., 298., 274., 246., 228.,\n",
       "        222., 190., 194., 182., 135., 125., 152., 112., 101., 106.,  99.,\n",
       "         67.,  82.,  57.,  57.,  59.,  68.,  38.,  41.,  41.,  36.,  34.,\n",
       "         20.,  25.,  21.,  22.,  14.,  16.,  13.,  16.,   8.,  12.,  15.,\n",
       "          7.,  13.,   9.,  14.,  10.,   7.,   4.,   4.,   7.,   4.,   3.,\n",
       "          0.,   2.,   2.,   2.,   3.,   2.,   1.,   1.,   2.,   0.,   0.,\n",
       "          0.,   0.,   0.,   1.,   1.,   1.,   0.,   0.,   1.,   0.,   0.,\n",
       "          0.,   0.,   0.,   0.,   0.,   0.,   1.,   0.,   0.,   0.,   0.,\n",
       "          1.]),\n",
       " array([ 0.0228123 ,  0.14371121,  0.26461012,  0.38550903,  0.50640794,\n",
       "         0.62730685,  0.74820576,  0.86910466,  0.99000357,  1.11090248,\n",
       "         1.23180139,  1.3527003 ,  1.47359921,  1.59449811,  1.71539702,\n",
       "         1.83629593,  1.95719484,  2.07809375,  2.19899266,  2.31989157,\n",
       "         2.44079047,  2.56168938,  2.68258829,  2.8034872 ,  2.92438611,\n",
       "         3.04528502,  3.16618392,  3.28708283,  3.40798174,  3.52888065,\n",
       "         3.64977956,  3.77067847,  3.89157738,  4.01247628,  4.13337519,\n",
       "         4.2542741 ,  4.37517301,  4.49607192,  4.61697083,  4.73786973,\n",
       "         4.85876864,  4.97966755,  5.10056646,  5.22146537,  5.34236428,\n",
       "         5.46326318,  5.58416209,  5.705061  ,  5.82595991,  5.94685882,\n",
       "         6.06775773,  6.18865664,  6.30955554,  6.43045445,  6.55135336,\n",
       "         6.67225227,  6.79315118,  6.91405009,  7.03494899,  7.1558479 ,\n",
       "         7.27674681,  7.39764572,  7.51854463,  7.63944354,  7.76034245,\n",
       "         7.88124135,  8.00214026,  8.12303917,  8.24393808,  8.36483699,\n",
       "         8.4857359 ,  8.6066348 ,  8.72753371,  8.84843262,  8.96933153,\n",
       "         9.09023044,  9.21112935,  9.33202826,  9.45292716,  9.57382607,\n",
       "         9.69472498,  9.81562389,  9.9365228 , 10.05742171, 10.17832061,\n",
       "        10.29921952, 10.42011843, 10.54101734, 10.66191625, 10.78281516,\n",
       "        10.90371406, 11.02461297, 11.14551188, 11.26641079, 11.3873097 ,\n",
       "        11.50820861, 11.62910752, 11.75000642, 11.87090533, 11.99180424,\n",
       "        12.11270315]),\n",
       " <BarContainer object of 100 artists>)"
      ]
     },
     "execution_count": 9,
     "metadata": {},
     "output_type": "execute_result"
    },
    {
     "data": {
      "image/png": "[encoded data removed]",
      "text/plain": [
       "<Figure size 640x480 with 1 Axes>"
      ]
     },
     "metadata": {},
     "output_type": "display_data"
    }
   ],
   "source": [
    "plt.hist(df['gamma'], bins=100)"
   ]
  },
  {
   "cell_type": "code",
   "execution_count": 13,
   "metadata": {},
   "outputs": [
    {
     "data": {
      "image/png": "[encoded data removed]",
      "text/plain": [
       "<Figure size 900x900 with 1 Axes>"
      ]
     },
     "metadata": {},
     "output_type": "display_data"
    }
   ],
   "source": [
    "plt.figure(figsize=(9,9))\n",
    "plt.boxplot([df['normal'], df['random'], df['gamma']], whis=[0,100])\n",
    "ax2 = plt.gca().inset_axes([0,0.6,0.6,0.4])\n",
    "ax2.hist(df['gamma'], bins=100, density=True)\n",
    "ax2.yaxis.tick_right();"
   ]
  },
  {
   "cell_type": "code",
   "execution_count": null,
   "metadata": {},
   "outputs": [],
   "source": []
  }
 ],
 "metadata": {
  "kernelspec": {
   "display_name": "myenv",
   "language": "python",
   "name": "python3"
  },
  "language_info": {
   "codemirror_mode": {
    "name": "ipython",
    "version": 3
   },
   "file_extension": ".py",
   "mimetype": "text/x-python",
   "name": "python",
   "nbconvert_exporter": "python",
   "pygments_lexer": "ipython3",
   "version": "3.10.15"
  }
 },
 "nbformat": 4,
 "nbformat_minor": 2
}
