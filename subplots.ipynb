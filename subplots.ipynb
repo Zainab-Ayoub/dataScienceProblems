{
 "cells": [
  {
   "cell_type": "code",
   "execution_count": 3,
   "metadata": {},
   "outputs": [
    {
     "name": "stdout",
     "output_type": "stream",
     "text": [
      "\u001b[0;31mSignature:\u001b[0m \u001b[0mplt\u001b[0m\u001b[0;34m.\u001b[0m\u001b[0msubplot\u001b[0m\u001b[0;34m(\u001b[0m\u001b[0;34m*\u001b[0m\u001b[0margs\u001b[0m\u001b[0;34m,\u001b[0m \u001b[0;34m**\u001b[0m\u001b[0mkwargs\u001b[0m\u001b[0;34m)\u001b[0m \u001b[0;34m->\u001b[0m \u001b[0;34m'Axes'\u001b[0m\u001b[0;34m\u001b[0m\u001b[0;34m\u001b[0m\u001b[0m\n",
      "\u001b[0;31mDocstring:\u001b[0m\n",
      "Add an Axes to the current figure or retrieve an existing Axes.\n",
      "\n",
      "This is a wrapper of `.Figure.add_subplot` which provides additional\n",
      "behavior when working with the implicit API (see the notes section).\n",
      "\n",
      "Call signatures::\n",
      "\n",
      "   subplot(nrows, ncols, index, **kwargs)\n",
      "   subplot(pos, **kwargs)\n",
      "   subplot(**kwargs)\n",
      "   subplot(ax)\n",
      "\n",
      "Parameters\n",
      "----------\n",
      "*args : int, (int, int, *index*), or `.SubplotSpec`, default: (1, 1, 1)\n",
      "    The position of the subplot described by one of\n",
      "\n",
      "    - Three integers (*nrows*, *ncols*, *index*). The subplot will take the\n",
      "      *index* position on a grid with *nrows* rows and *ncols* columns.\n",
      "      *index* starts at 1 in the upper left corner and increases to the\n",
      "      right. *index* can also be a two-tuple specifying the (*first*,\n",
      "      *last*) indices (1-based, and including *last*) of the subplot, e.g.,\n",
      "      ``fig.add_subplot(3, 1, (1, 2))`` makes a subplot that spans the\n",
      "      upper 2/3 of the figure.\n",
      "    - A 3-digit integer. The digits are interpreted as if given separately\n",
      "      as three single-digit integers, i.e. ``fig.add_subplot(235)`` is the\n",
      "      same as ``fig.add_subplot(2, 3, 5)``. Note that this can only be used\n",
      "      if there are no more than 9 subplots.\n",
      "    - A `.SubplotSpec`.\n",
      "\n",
      "projection : {None, 'aitoff', 'hammer', 'lambert', 'mollweide', 'polar', 'rectilinear', str}, optional\n",
      "    The projection type of the subplot (`~.axes.Axes`). *str* is the name\n",
      "    of a custom projection, see `~matplotlib.projections`. The default\n",
      "    None results in a 'rectilinear' projection.\n",
      "\n",
      "polar : bool, default: False\n",
      "    If True, equivalent to projection='polar'.\n",
      "\n",
      "sharex, sharey : `~matplotlib.axes.Axes`, optional\n",
      "    Share the x or y `~matplotlib.axis` with sharex and/or sharey. The\n",
      "    axis will have the same limits, ticks, and scale as the axis of the\n",
      "    shared Axes.\n",
      "\n",
      "label : str\n",
      "    A label for the returned Axes.\n",
      "\n",
      "Returns\n",
      "-------\n",
      "`~.axes.Axes`\n",
      "\n",
      "    The Axes of the subplot. The returned Axes can actually be an instance\n",
      "    of a subclass, such as `.projections.polar.PolarAxes` for polar\n",
      "    projections.\n",
      "\n",
      "Other Parameters\n",
      "----------------\n",
      "**kwargs\n",
      "    This method also takes the keyword arguments for the returned Axes\n",
      "    base class; except for the *figure* argument. The keyword arguments\n",
      "    for the rectilinear base class `~.axes.Axes` can be found in\n",
      "    the following table but there might also be other keyword\n",
      "    arguments if another projection is used.\n",
      "\n",
      "    Properties:\n",
      "    adjustable: {'box', 'datalim'}\n",
      "    agg_filter: a filter function, which takes a (m, n, 3) float array and a dpi value, and returns a (m, n, 3) array and two offsets from the bottom left corner of the image\n",
      "    alpha: float or None\n",
      "    anchor: (float, float) or {'C', 'SW', 'S', 'SE', 'E', 'NE', ...}\n",
      "    animated: bool\n",
      "    aspect: {'auto', 'equal'} or float\n",
      "    autoscale_on: bool\n",
      "    autoscalex_on: unknown\n",
      "    autoscaley_on: unknown\n",
      "    axes_locator: Callable[[Axes, Renderer], Bbox]\n",
      "    axisbelow: bool or 'line'\n",
      "    box_aspect: float or None\n",
      "    clip_box: `~matplotlib.transforms.BboxBase` or None\n",
      "    clip_on: bool\n",
      "    clip_path: Patch or (Path, Transform) or None\n",
      "    facecolor or fc: :mpltype:`color`\n",
      "    figure: `~matplotlib.figure.Figure` or `~matplotlib.figure.SubFigure`\n",
      "    forward_navigation_events: bool or \"auto\"\n",
      "    frame_on: bool\n",
      "    gid: str\n",
      "    in_layout: bool\n",
      "    label: object\n",
      "    mouseover: bool\n",
      "    navigate: bool\n",
      "    navigate_mode: unknown\n",
      "    path_effects: list of `.AbstractPathEffect`\n",
      "    picker: None or bool or float or callable\n",
      "    position: [left, bottom, width, height] or `~matplotlib.transforms.Bbox`\n",
      "    prop_cycle: `~cycler.Cycler`\n",
      "    rasterization_zorder: float or None\n",
      "    rasterized: bool\n",
      "    sketch_params: (scale: float, length: float, randomness: float)\n",
      "    snap: bool or None\n",
      "    subplotspec: unknown\n",
      "    title: str\n",
      "    transform: `~matplotlib.transforms.Transform`\n",
      "    url: str\n",
      "    visible: bool\n",
      "    xbound: (lower: float, upper: float)\n",
      "    xlabel: str\n",
      "    xlim: (left: float, right: float)\n",
      "    xmargin: float greater than -0.5\n",
      "    xscale: unknown\n",
      "    xticklabels: unknown\n",
      "    xticks: unknown\n",
      "    ybound: (lower: float, upper: float)\n",
      "    ylabel: str\n",
      "    ylim: (bottom: float, top: float)\n",
      "    ymargin: float greater than -0.5\n",
      "    yscale: unknown\n",
      "    yticklabels: unknown\n",
      "    yticks: unknown\n",
      "    zorder: float\n",
      "\n",
      "Notes\n",
      "-----\n",
      ".. versionchanged:: 3.8\n",
      "    In versions prior to 3.8, any preexisting Axes that overlap with the new Axes\n",
      "    beyond sharing a boundary was deleted. Deletion does not happen in more\n",
      "    recent versions anymore. Use `.Axes.remove` explicitly if needed.\n",
      "\n",
      "If you do not want this behavior, use the `.Figure.add_subplot` method\n",
      "or the `.pyplot.axes` function instead.\n",
      "\n",
      "If no *kwargs* are passed and there exists an Axes in the location\n",
      "specified by *args* then that Axes will be returned rather than a new\n",
      "Axes being created.\n",
      "\n",
      "If *kwargs* are passed and there exists an Axes in the location\n",
      "specified by *args*, the projection type is the same, and the\n",
      "*kwargs* match with the existing Axes, then the existing Axes is\n",
      "returned.  Otherwise a new Axes is created with the specified\n",
      "parameters.  We save a reference to the *kwargs* which we use\n",
      "for this comparison.  If any of the values in *kwargs* are\n",
      "mutable we will not detect the case where they are mutated.\n",
      "In these cases we suggest using `.Figure.add_subplot` and the\n",
      "explicit Axes API rather than the implicit pyplot API.\n",
      "\n",
      "See Also\n",
      "--------\n",
      ".Figure.add_subplot\n",
      ".pyplot.subplots\n",
      ".pyplot.axes\n",
      ".Figure.subplots\n",
      "\n",
      "Examples\n",
      "--------\n",
      "::\n",
      "\n",
      "    plt.subplot(221)\n",
      "\n",
      "    # equivalent but more general\n",
      "    ax1 = plt.subplot(2, 2, 1)\n",
      "\n",
      "    # add a subplot with no frame\n",
      "    ax2 = plt.subplot(222, frameon=False)\n",
      "\n",
      "    # add a polar subplot\n",
      "    plt.subplot(223, projection='polar')\n",
      "\n",
      "    # add a red subplot that shares the x-axis with ax1\n",
      "    plt.subplot(224, sharex=ax1, facecolor='red')\n",
      "\n",
      "    # delete ax2 from the figure\n",
      "    plt.delaxes(ax2)\n",
      "\n",
      "    # add ax2 to the figure again\n",
      "    plt.subplot(ax2)\n",
      "\n",
      "    # make the first Axes \"current\" again\n",
      "    plt.subplot(221)\n",
      "\u001b[0;31mFile:\u001b[0m      ~/Documents/dataScience/dataScienceProblems/myenv/lib/python3.10/site-packages/matplotlib/pyplot.py\n",
      "\u001b[0;31mType:\u001b[0m      function"
     ]
    }
   ],
   "source": [
    "import matplotlib.pyplot as plt \n",
    "import numpy as np \n",
    "\n",
    "plt.subplot?"
   ]
  },
  {
   "cell_type": "code",
   "execution_count": 4,
   "metadata": {},
   "outputs": [
    {
     "data": {
      "text/plain": [
       "[<matplotlib.lines.Line2D at 0x7f15dcd591e0>]"
      ]
     },
     "execution_count": 4,
     "metadata": {},
     "output_type": "execute_result"
    },
    {
     "data": {
      "image/png": "[encoded data removed]",
      "text/plain": [
       "<Figure size 640x480 with 1 Axes>"
      ]
     },
     "metadata": {},
     "output_type": "display_data"
    }
   ],
   "source": [
    "plt.figure()\n",
    "plt.subplot(1,2,1)\n",
    "\n",
    "linear_data = np.array([1,2,3,4,5,6,7,8])\n",
    "plt.plot(linear_data, '-o')"
   ]
  },
  {
   "cell_type": "code",
   "execution_count": 5,
   "metadata": {},
   "outputs": [
    {
     "data": {
      "text/plain": [
       "[<matplotlib.lines.Line2D at 0x7f15dcde5720>]"
      ]
     },
     "execution_count": 5,
     "metadata": {},
     "output_type": "execute_result"
    },
    {
     "data": {
      "image/png": "[encoded data removed]",
      "text/plain": [
       "<Figure size 640x480 with 1 Axes>"
      ]
     },
     "metadata": {},
     "output_type": "display_data"
    }
   ],
   "source": [
    "plt.subplot(1,2,2)\n",
    "exponential_data = linear_data**2\n",
    "plt.plot(exponential_data, '-o')"
   ]
  },
  {
   "cell_type": "code",
   "execution_count": null,
   "metadata": {},
   "outputs": [],
   "source": []
  }
 ],
 "metadata": {
  "kernelspec": {
   "display_name": "myenv",
   "language": "python",
   "name": "python3"
  },
  "language_info": {
   "codemirror_mode": {
    "name": "ipython",
    "version": 3
   },
   "file_extension": ".py",
   "mimetype": "text/x-python",
   "name": "python",
   "nbconvert_exporter": "python",
   "pygments_lexer": "ipython3",
   "version": "3.10.15"
  }
 },
 "nbformat": 4,
 "nbformat_minor": 2
}
